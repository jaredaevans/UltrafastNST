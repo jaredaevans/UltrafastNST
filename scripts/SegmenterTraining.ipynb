{
 "cells": [
  {
   "cell_type": "markdown",
   "metadata": {
    "heading_collapsed": true
   },
   "source": [
    "# Imports"
   ]
  },
  {
   "cell_type": "code",
   "execution_count": null,
   "metadata": {
    "hidden": true
   },
   "outputs": [],
   "source": [
    "import os\n",
    "import sys\n",
    "\n",
    "import numpy as np\n",
    "import random\n",
    "import time\n",
    "\n",
    "%matplotlib inline\n",
    "import matplotlib as mpl\n",
    "import matplotlib.pyplot as plt\n",
    "\n",
    "import PIL\n",
    "from PIL import Image\n",
    "from IPython import display\n",
    "\n",
    "import cv2\n",
    "from google.colab.patches import cv2_imshow\n",
    "\n",
    "import torch\n",
    "import torchvision.transforms as transforms\n",
    "\n",
    "from copy import deepcopy\n",
    "\n",
    "from portraitsegmenter import PortraitSegmenter\n",
    "from datasets_portraitseg import PortraitSegDatasetAug\n",
    "from segment_trainer import SegmentTrainer"
   ]
  },
  {
   "cell_type": "markdown",
   "metadata": {
    "heading_collapsed": true
   },
   "source": [
    "# Set-up"
   ]
  },
  {
   "cell_type": "code",
   "execution_count": null,
   "metadata": {
    "hidden": true
   },
   "outputs": [],
   "source": [
    "x_train = np.load(\"data/img_uint8.npy\")\n",
    "y_train = np.load(\"data/msk_uint8.npy\")\n",
    "x_test = np.load(\"data/test_xtrain.npy\")\n",
    "y_test = np.load(\"data/test_ytrain.npy\")"
   ]
  },
  {
   "cell_type": "code",
   "execution_count": null,
   "metadata": {
    "hidden": true
   },
   "outputs": [],
   "source": [
    "datavals = PortraitSegDatasetAug(x_train,\n",
    "                                 y_train,\n",
    "                                 angle_range=30,\n",
    "                                 zoom=0.5,\n",
    "                                 noise_scale=10.0)\n",
    "valvals = PortraitSegDatasetAug(x_test, y_test, aug=False)\n",
    "port_seg = PortraitSegmenter(down_depth=[1, 2, 2, 2],\n",
    "                             up_depth=[1, 1, 1],\n",
    "                             filters=[16, 24, 32, 48])\n",
    "trainer = SegmentTrainer(port_seg)\n",
    "iiii = 0"
   ]
  },
  {
   "cell_type": "code",
   "execution_count": null,
   "metadata": {
    "hidden": true
   },
   "outputs": [],
   "source": [
    "iiii += 1\n",
    "x, y, z, w = valvals[iiii]\n",
    "cv2_imshow(np.moveaxis(((x + 1) * 127.5), 0, -1)[:, :, ::-1])\n",
    "cv2_imshow(np.expand_dims(z * 255., axis=2))\n",
    "cv2_imshow(np.expand_dims(w * 255., axis=2))\n",
    "with torch.no_grad():\n",
    "    a1, a2 = port_seg(torch.tensor(x).unsqueeze(0).to(torch.device(\"cuda\")))\n",
    "    print(a1.shape)\n",
    "    print(a2.shape)\n",
    "thresh = 1.64872\n",
    "print(\n",
    "    trainer.calcIOU(torch.tensor(w), torch.tensor(a1.to(torch.device(\"cpu\")))))\n",
    "a1[a1 < thresh] = 0\n",
    "a1[a1 >= thresh] = 1\n",
    "a2[a2 < thresh] = 0\n",
    "a2[a2 >= thresh] = 1\n",
    "cv2_imshow(a2.detach().squeeze().to(torch.device(\"cpu\")).numpy() * 255.)\n",
    "cv2_imshow(a1.detach().squeeze().to(torch.device(\"cpu\")).numpy() * 255.)"
   ]
  },
  {
   "cell_type": "markdown",
   "metadata": {},
   "source": [
    "# Train"
   ]
  },
  {
   "cell_type": "code",
   "execution_count": null,
   "metadata": {},
   "outputs": [],
   "source": [
    "history = trainer.train(datavals,\n",
    "                        valvals,\n",
    "                        batch_size=128,\n",
    "                        epochs=50,\n",
    "                        lr=0.001,\n",
    "                        es_patience=30,\n",
    "                        mask_weight=10,\n",
    "                        mask_loss='CE',\n",
    "                        edge_loss=None)\n",
    "trainer.segmenter.load_state_dict(torch.load(\"best.pth\"))\n",
    "torch.save(trainer.segmenter.state_dict(), \"portraitCE.pth\")"
   ]
  }
 ],
 "metadata": {
  "kernelspec": {
   "display_name": "Python 3",
   "language": "python",
   "name": "python3"
  },
  "language_info": {
   "codemirror_mode": {
    "name": "ipython",
    "version": 3
   },
   "file_extension": ".py",
   "mimetype": "text/x-python",
   "name": "python",
   "nbconvert_exporter": "python",
   "pygments_lexer": "ipython3",
   "version": "3.8.5"
  },
  "toc": {
   "base_numbering": 1,
   "nav_menu": {},
   "number_sections": true,
   "sideBar": true,
   "skip_h1_title": false,
   "title_cell": "Table of Contents",
   "title_sidebar": "Contents",
   "toc_cell": false,
   "toc_position": {},
   "toc_section_display": true,
   "toc_window_display": false
  }
 },
 "nbformat": 4,
 "nbformat_minor": 4
}
